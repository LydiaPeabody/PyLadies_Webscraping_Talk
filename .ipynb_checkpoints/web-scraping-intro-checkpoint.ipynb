{
 "cells": [
  {
   "cell_type": "markdown",
   "metadata": {
    "ExecuteTime": {
     "end_time": "2019-09-15T05:03:46.697849Z",
     "start_time": "2019-09-15T05:03:46.692832Z"
    }
   },
   "source": [
    "<html>\n",
    "  <head>\n",
    "    <title>Hello PyLadies!</title>\n",
    "  </head>\n",
    "  <body>\n",
    "    <h2 class='opening'>Welcome to my <a href=\"http://melbourne.pyladies.com/\">PyLadies Melbourne</a> talk</h2>\n",
    "      <p>A few comments:</p>\n",
    "      <li id='new'>I'm pretty new to this</li>\n",
    "      <li id='fun'>But it's been fun to learn</li>\n",
    "      <p></p>\n",
    "    <p class = '1'>Hopefully you'll learn something.</p>\n",
    "      <div>There is a lot to learn.\n",
    "          <div>Certainly there is much I do not know.</div>\n",
    "      </div>\n",
    "    <p class = '2'>So hopefully I'll learn something.</p>\n",
    "    <p class = '3'>Hopefully we'll all have some fun.</p>\n",
    "      <div>Because learning is often fun!</div>\n",
    "    <p class = 'closing'>Let's get started!<p>\n",
    "  </body>\n",
    "</html>"
   ]
  },
  {
   "cell_type": "markdown",
   "metadata": {},
   "source": [
    "## HTML in Python\n",
    "Python doesn't understand html, but plenty of packages exist for working with html through Python.<br>\n",
    "<br>\n",
    "Among the most popular are:\n",
    "* [Scrapy](https://scrapy.org) - a powerful framework for web scraping\n",
    "* [Requests](https://2.python-requests.org/en/master/) - a library for scraping raw html from a website\n",
    "* [BeautifulSoup](https://www.crummy.com/software/BeautifulSoup/) - an html parser, useful for extracting information from html\n",
    "\n",
    "If you plan to do lots of web scraping, Scrapy is probably for you. There's more to learn up-front to get a project going, but lots more flexibility and options after that. Also, it's all-in-one from grabbing the html through processing.<br>\n",
    "If you're looking for a simple way to get started, BeautifulSoup may be easier and do what you need.<br>\n",
    "<br>\n",
    "For today, I'm focusing on BeautifulSoup for the easy-to-get-started factor."
   ]
  },
  {
   "cell_type": "code",
   "execution_count": 94,
   "metadata": {
    "ExecuteTime": {
     "end_time": "2019-09-15T05:53:30.567194Z",
     "start_time": "2019-09-15T05:53:30.563183Z"
    }
   },
   "outputs": [],
   "source": [
    "#imports\n",
    "from scrapy.selector import Selector\n",
    "\n",
    "import requests\n",
    "from bs4 import BeautifulSoup\n",
    "\n",
    "import pandas as pd\n"
   ]
  },
  {
   "cell_type": "markdown",
   "metadata": {},
   "source": [
    "## A little taste of Scrapy & XPath\n",
    "XPath locates items within html by following the tag structure of the code"
   ]
  },
  {
   "cell_type": "code",
   "execution_count": 93,
   "metadata": {
    "ExecuteTime": {
     "end_time": "2019-09-15T05:53:27.336165Z",
     "start_time": "2019-09-15T05:53:27.332195Z"
    }
   },
   "outputs": [],
   "source": [
    "html_str = '''\n",
    "<html>\n",
    "  <head>\n",
    "    <title>Hello PyLadies!</title>\n",
    "  </head>\n",
    "  <body>\n",
    "    <h2 class='opening'>Welcome to my <a href=\"http://melbourne.pyladies.com/\">PyLadies Melbourne</a> talk</h2>\n",
    "      <p>A few comments:</p>\n",
    "      <li id='new'>I'm pretty new to this</li>\n",
    "      <li id='fun'>But it's been fun to learn</li>\n",
    "      <p></p>\n",
    "    <p class = '1'>Hopefully you'll learn something.</p>\n",
    "      <div>There is a lot to learn.\n",
    "          <div>Certainly there is much I do not know.</div>\n",
    "      </div>\n",
    "    <p class = '2'>So hopefully I'll learn something.</p>\n",
    "    <p class = '3'>Hopefully we'll all have some fun.</p>\n",
    "      <div>Because learning is often fun!</div>\n",
    "    <p class = 'closing'>Let's get started!<p>\n",
    "  </body>\n",
    "</html>\n",
    "'''"
   ]
  },
  {
   "cell_type": "code",
   "execution_count": 95,
   "metadata": {
    "ExecuteTime": {
     "end_time": "2019-09-15T11:42:08.215853Z",
     "start_time": "2019-09-15T11:42:08.206874Z"
    }
   },
   "outputs": [],
   "source": [
    "xpath_selector = Selector(text=html_str)"
   ]
  },
  {
   "cell_type": "code",
   "execution_count": 98,
   "metadata": {
    "ExecuteTime": {
     "end_time": "2019-09-15T11:46:08.236322Z",
     "start_time": "2019-09-15T11:46:08.231325Z"
    }
   },
   "outputs": [
    {
     "name": "stdout",
     "output_type": "stream",
     "text": [
      "['Welcome to my ', ' talk']\n"
     ]
    }
   ],
   "source": [
    "print(xpath_selector.xpath('/html/body/h2/text()').extract())"
   ]
  },
  {
   "cell_type": "code",
   "execution_count": 103,
   "metadata": {
    "ExecuteTime": {
     "end_time": "2019-09-15T11:50:35.619765Z",
     "start_time": "2019-09-15T11:50:35.613817Z"
    }
   },
   "outputs": [
    {
     "data": {
      "text/plain": [
       "['Welcome to my ', ' talk']"
      ]
     },
     "execution_count": 103,
     "metadata": {},
     "output_type": "execute_result"
    }
   ],
   "source": [
    "#keep track of your single/double quotes when working with html :)\n",
    "path = '//*[@class = \"opening\"]/text()'\n",
    "xpath_selector.xpath(path).extract()"
   ]
  },
  {
   "cell_type": "code",
   "execution_count": 108,
   "metadata": {
    "ExecuteTime": {
     "end_time": "2019-09-15T11:53:28.544964Z",
     "start_time": "2019-09-15T11:53:28.539976Z"
    }
   },
   "outputs": [
    {
     "name": "stdout",
     "output_type": "stream",
     "text": [
      "[\"I'm pretty new to this\", \"But it's been fun to learn\"]\n",
      "[\"I'm pretty new to this\"]\n"
     ]
    }
   ],
   "source": [
    "path1 = '/html/body/li/text()'\n",
    "path2 = '//*[@id = \"new\"]/text()'\n",
    "print(xpath_selector.xpath(path1).extract())\n",
    "print(xpath_selector.xpath(path2).extract())"
   ]
  },
  {
   "cell_type": "code",
   "execution_count": 117,
   "metadata": {
    "ExecuteTime": {
     "end_time": "2019-09-15T12:02:33.990876Z",
     "start_time": "2019-09-15T12:02:33.985876Z"
    }
   },
   "outputs": [
    {
     "data": {
      "text/plain": [
       "[\"Hopefully we'll all have some fun.\"]"
      ]
     },
     "execution_count": 117,
     "metadata": {},
     "output_type": "execute_result"
    }
   ],
   "source": [
    "path3 = '/html/body/p[@class = 3]/text()'\n",
    "xpath_selector.xpath(path3).extract()"
   ]
  },
  {
   "cell_type": "code",
   "execution_count": 118,
   "metadata": {
    "ExecuteTime": {
     "end_time": "2019-09-15T12:02:48.436067Z",
     "start_time": "2019-09-15T12:02:48.431088Z"
    }
   },
   "outputs": [
    {
     "name": "stdout",
     "output_type": "stream",
     "text": [
      "[[\"Hopefully you'll learn something.\"], [\"Hopefully I'll learn something.\"], [\"Hopefully we'll all have some fun.\"]]\n"
     ]
    }
   ],
   "source": [
    "paragraphs = [xpath_selector.xpath('/html/body/p[@class = ' + str(i+1) +']/text()').extract()\n",
    "                  for i in range(3)]\n",
    "print(paragraphs)"
   ]
  },
  {
   "cell_type": "markdown",
   "metadata": {},
   "source": [
    "## Requests\n",
    "Let's get some html!"
   ]
  },
  {
   "cell_type": "code",
   "execution_count": 85,
   "metadata": {
    "ExecuteTime": {
     "end_time": "2019-09-15T05:02:31.980496Z",
     "start_time": "2019-09-15T05:02:31.833887Z"
    }
   },
   "outputs": [
    {
     "data": {
      "text/plain": [
       "200"
      ]
     },
     "execution_count": 85,
     "metadata": {},
     "output_type": "execute_result"
    }
   ],
   "source": [
    "#using requests to capture html from a website\n",
    "response = requests.get('https://www.python.org/')\n",
    "response.status_code"
   ]
  },
  {
   "cell_type": "markdown",
   "metadata": {},
   "source": [
    "### HTML status codes\n",
    "These responses tell about whether your request worked, or what might have gone wrong. You've probably seen 404 frequently. You don't usually see 200 because it means things are all good <br>\n",
    "<br>\n",
    "learn more: https://en.wikipedia.org/wiki/List_of_HTTP_status_codes <br>\n",
    "<br>\n"
   ]
  },
  {
   "cell_type": "code",
   "execution_count": 86,
   "metadata": {
    "ExecuteTime": {
     "end_time": "2019-09-15T05:03:18.378860Z",
     "start_time": "2019-09-15T05:03:18.371877Z"
    }
   },
   "outputs": [
    {
     "name": "stdout",
     "output_type": "stream",
     "text": [
      "48823\n"
     ]
    },
    {
     "data": {
      "text/plain": [
       "'<!doctype html>\\n<!--[if lt IE 7]>   <html class=\"no-js ie6 lt-ie7 lt-ie8 lt-ie9\">   <![endif]-->\\n<!--[if IE 7]>      <html class=\"no-js ie7 lt-ie8 lt-ie9\">          <![endif]-->\\n<!--[if IE 8]>      <html class=\"no-js ie8 lt-ie9\">                 <![endif]-->\\n<!--[if gt IE 8]><!--><html class=\"no-js\" lang=\"en\" dir=\"ltr\">  <!--<![endif]-->\\n\\n<head>\\n    <meta charset=\"utf-8\">\\n    <meta http-equiv=\"X-UA-Compatible\" content=\"IE=edge\">\\n\\n    <link rel=\"prefetch\" href=\"//ajax.googleapis.com/ajax/libs/jquery/1.8.2/jquery.min.js\">\\n\\n    <meta name=\"application-name\" content=\"Python.org\">\\n    <meta name=\"msapplication-tooltip\" content=\"The official home of the Python Programming Language\">\\n    <meta name=\"apple-mobile-web-app-title\" content=\"Python.org\">\\n    <meta name=\"apple-mobile-web-app-capable\" content=\"yes\">\\n    <meta name=\"apple-mobile-web-app-status-bar-style\" content=\"black\">\\n\\n    <meta name=\"viewport\" content=\"width=device-width, initial-scale=1.0\">\\n    <meta name=\"HandheldFriendly\" conte'"
      ]
     },
     "execution_count": 86,
     "metadata": {},
     "output_type": "execute_result"
    }
   ],
   "source": [
    "#let's look at what's in the response\n",
    "#how long is it?\n",
    "print(len(response.text))\n",
    "\n",
    "#what does it look like?\n",
    "response.text[0:1000]"
   ]
  },
  {
   "cell_type": "code",
   "execution_count": 8,
   "metadata": {
    "ExecuteTime": {
     "end_time": "2019-09-15T02:00:41.965530Z",
     "start_time": "2019-09-15T02:00:38.959879Z"
    }
   },
   "outputs": [
    {
     "data": {
      "text/plain": [
       "'Windows-1252'"
      ]
     },
     "execution_count": 8,
     "metadata": {},
     "output_type": "execute_result"
    }
   ],
   "source": [
    "response.apparent_encoding"
   ]
  },
  {
   "cell_type": "markdown",
   "metadata": {},
   "source": [
    "## BeautifulSoup"
   ]
  },
  {
   "cell_type": "code",
   "execution_count": 171,
   "metadata": {
    "ExecuteTime": {
     "end_time": "2019-09-15T13:17:43.639144Z",
     "start_time": "2019-09-15T13:17:42.744856Z"
    }
   },
   "outputs": [
    {
     "name": "stdout",
     "output_type": "stream",
     "text": [
      "200\n"
     ]
    }
   ],
   "source": [
    "url = '''https://www.opentable.com/s/?covers=2&dateTime=2019-09-16%2019%3A00\n",
    "        &metroId=279&regionIds=1145&enableSimpleCuisines=true\n",
    "        &userlongitude=149.22&userlatitude=-35.28&includeTicketedAvailability=true&pageType=0'''\n",
    "\n",
    "response2 = requests.get(url)\n",
    "print(response2.status_code)\n",
    "\n",
    "html = response2.text"
   ]
  },
  {
   "cell_type": "code",
   "execution_count": 172,
   "metadata": {
    "ExecuteTime": {
     "end_time": "2019-09-15T13:17:45.038988Z",
     "start_time": "2019-09-15T13:17:45.032982Z"
    }
   },
   "outputs": [
    {
     "data": {
      "text/plain": [
       "'           <!DOCTYPE html><html lang=\"en\"><head><meta charset=\"utf-8\"/><meta http-equiv=\"X-UA-Compatible\" content=\"IE=9; IE=8; IE=7; IE=EDGE\"/> <title>Restaurant Reservation Availability</title>    <meta  name=\"robots\" content=\"noindex,nofollow\" > </meta>     <link rel=\"shortcut icon\" href=\"//components.otstatic.com/components/favicon/1.0.6/favicon/favicon.ico\" type=\"image/x-icon\"/><link rel=\"icon\" href=\"//components.otstatic.com/components/favicon/1.0.6/favicon/favicon-16.png\" sizes=\"16x16\"/><link rel=\"icon\" href=\"//components.otstatic.com/components/favicon/1.0.6/favicon/favicon-32.png\" sizes=\"32x32\"/><link rel=\"icon\" href=\"//components.otstatic.com/components/favicon/1.0.6/favicon/favicon-48.png\" sizes=\"48x48\"/><link rel=\"icon\" href=\"//components.otstatic.com/components/favicon/1.0.6/favicon/favicon-64.png\" sizes=\"64x64\"/><link rel=\"icon\" href=\"//components.otstatic.com/components/favicon/1.0.6/favicon/favicon-128.png\" sizes=\"128x128\"/><link rel=\"apple-touch-icon-precomposed\" sizes='"
      ]
     },
     "execution_count": 172,
     "metadata": {},
     "output_type": "execute_result"
    }
   ],
   "source": [
    "html[0:1000]"
   ]
  },
  {
   "cell_type": "code",
   "execution_count": 193,
   "metadata": {
    "ExecuteTime": {
     "end_time": "2019-09-15T13:27:22.261668Z",
     "start_time": "2019-09-15T13:27:22.046240Z"
    }
   },
   "outputs": [
    {
     "data": {
      "text/plain": [
       "'Restaurant Reservation Availability'"
      ]
     },
     "execution_count": 193,
     "metadata": {},
     "output_type": "execute_result"
    }
   ],
   "source": [
    "soup_booking = BeautifulSoup(html,'html.parser')\n",
    "soup_booking.title.text"
   ]
  },
  {
   "cell_type": "code",
   "execution_count": 208,
   "metadata": {
    "ExecuteTime": {
     "end_time": "2019-09-15T13:39:30.860987Z",
     "start_time": "2019-09-15T13:39:30.856001Z"
    }
   },
   "outputs": [],
   "source": [
    "# soup_booking.find_all('span',{'class':\"rest-row-name-text\"})"
   ]
  },
  {
   "cell_type": "code",
   "execution_count": 207,
   "metadata": {
    "ExecuteTime": {
     "end_time": "2019-09-15T13:39:22.533332Z",
     "start_time": "2019-09-15T13:39:22.530316Z"
    },
    "scrolled": false
   },
   "outputs": [],
   "source": [
    "# html_driver[100000:]"
   ]
  },
  {
   "cell_type": "code",
   "execution_count": 144,
   "metadata": {
    "ExecuteTime": {
     "end_time": "2019-09-15T12:18:34.211140Z",
     "start_time": "2019-09-15T12:18:34.163252Z"
    }
   },
   "outputs": [
    {
     "data": {
      "text/plain": [
       "[]"
      ]
     },
     "execution_count": 144,
     "metadata": {},
     "output_type": "execute_result"
    }
   ],
   "source": [
    "soup_booking.find_all('div', {'class':\"booking\"})"
   ]
  },
  {
   "cell_type": "markdown",
   "metadata": {},
   "source": [
    "## Working with javascript and similar features\n",
    "The request object only grabs the html - if something is using javascript it won't see it. One way to get around this is to use automated testing software designed to mimic human browsing habits. I'll be using Selenium and chromedriver, which you can learn about here: <br>\n",
    "<br>\n",
    "https://www.seleniumhq.org/ <br>\n",
    "<br>\n",
    "https://sites.google.com/a/chromium.org/chromedriver/home <br>\n",
    "<br>\n",
    "If you decide to use scrapy for your project, here is an option to play with:<br>\n",
    "https://github.com/scrapy-plugins/scrapy-splash<br>\n",
    "<br>"
   ]
  },
  {
   "cell_type": "code",
   "execution_count": 66,
   "metadata": {
    "ExecuteTime": {
     "end_time": "2019-09-15T04:34:52.052461Z",
     "start_time": "2019-09-15T04:34:52.049466Z"
    }
   },
   "outputs": [],
   "source": [
    "from selenium import webdriver\n",
    "from time import sleep\n"
   ]
  },
  {
   "cell_type": "code",
   "execution_count": 145,
   "metadata": {
    "ExecuteTime": {
     "end_time": "2019-09-15T12:18:46.543027Z",
     "start_time": "2019-09-15T12:18:41.074541Z"
    }
   },
   "outputs": [],
   "source": [
    "driver = webdriver.Chrome(executable_path=\"./chromedriver/chromedriver.exe\") #tell Selenium where to find the driver"
   ]
  },
  {
   "cell_type": "code",
   "execution_count": 146,
   "metadata": {
    "ExecuteTime": {
     "end_time": "2019-09-15T12:18:46.597878Z",
     "start_time": "2019-09-15T12:18:46.545019Z"
    }
   },
   "outputs": [],
   "source": [
    "#when you're done with it\n",
    "driver.close()"
   ]
  },
  {
   "cell_type": "code",
   "execution_count": 184,
   "metadata": {
    "ExecuteTime": {
     "end_time": "2019-09-15T13:21:44.905227Z",
     "start_time": "2019-09-15T13:21:44.900242Z"
    }
   },
   "outputs": [],
   "source": [
    "def get_html_with_script(url):\n",
    "    driver = webdriver.Chrome(executable_path=\"./chromedriver/chromedriver.exe\")\n",
    "    driver.get(url)\n",
    "\n",
    "    #wait one second\n",
    "    sleep(1)\n",
    "\n",
    "    #grab page source - javascript will have been executed\n",
    "    html = driver.page_source\n",
    "    driver.close()\n",
    "    \n",
    "    return html"
   ]
  },
  {
   "cell_type": "code",
   "execution_count": 185,
   "metadata": {
    "ExecuteTime": {
     "end_time": "2019-09-15T13:22:02.010925Z",
     "start_time": "2019-09-15T13:21:48.706336Z"
    },
    "scrolled": false
   },
   "outputs": [
    {
     "data": {
      "text/plain": [
       "[<div class=\"booking\"><span class=\"tadpole\"></span>Booked 23 times today</div>,\n",
       " <div class=\"booking\"><span class=\"tadpole\"></span>Booked 14 times today</div>,\n",
       " <div class=\"booking\"><span class=\"tadpole\"></span>Booked 20 times today</div>,\n",
       " <div class=\"booking\"><span class=\"tadpole\"></span>Booked 15 times today</div>,\n",
       " <div class=\"booking\"><span class=\"tadpole\"></span>Booked 1 times today</div>,\n",
       " <div class=\"booking\"><span class=\"tadpole\"></span>Booked 19 times today</div>,\n",
       " <div class=\"booking\"><span class=\"tadpole\"></span>Booked 4 times today</div>,\n",
       " <div class=\"booking\"><span class=\"tadpole\"></span>Booked 7 times today</div>,\n",
       " <div class=\"booking\"><span class=\"tadpole\"></span>Booked 9 times today</div>,\n",
       " <div class=\"booking\"><span class=\"tadpole\"></span>Booked 1 times today</div>,\n",
       " <div class=\"booking\"><span class=\"tadpole\"></span>Booked 2 times today</div>,\n",
       " <div class=\"booking\"><span class=\"tadpole\"></span>Booked 4 times today</div>,\n",
       " <div class=\"booking\"><span class=\"tadpole\"></span>Booked 1 times today</div>,\n",
       " <div class=\"booking\"><span class=\"tadpole\"></span>Booked 10 times today</div>,\n",
       " <div class=\"booking\"><span class=\"tadpole\"></span>Booked 11 times today</div>,\n",
       " <div class=\"booking\"><span class=\"tadpole\"></span>Booked 4 times today</div>]"
      ]
     },
     "execution_count": 185,
     "metadata": {},
     "output_type": "execute_result"
    }
   ],
   "source": [
    "html_driver = get_html_with_script(url)\n",
    "soup_driver = BeautifulSoup(html_driver)\n",
    "soup_driver.find_all('div', {'class':\"booking\"})"
   ]
  },
  {
   "cell_type": "markdown",
   "metadata": {},
   "source": [
    "### Changing example: job boards"
   ]
  },
  {
   "cell_type": "code",
   "execution_count": 76,
   "metadata": {
    "ExecuteTime": {
     "end_time": "2019-09-15T04:46:53.852263Z",
     "start_time": "2019-09-15T04:46:53.847277Z"
    }
   },
   "outputs": [],
   "source": [
    "url2 = 'https://www.seek.com.au/job/39930523?token=1~5f8ee63d-cb9e-44de-93d2-91c3414807f7'"
   ]
  },
  {
   "cell_type": "code",
   "execution_count": 78,
   "metadata": {
    "ExecuteTime": {
     "end_time": "2019-09-15T04:49:01.662117Z",
     "start_time": "2019-09-15T04:49:01.417809Z"
    }
   },
   "outputs": [
    {
     "data": {
      "text/plain": [
       "200"
      ]
     },
     "execution_count": 78,
     "metadata": {},
     "output_type": "execute_result"
    }
   ],
   "source": [
    "job_html = requests.get(url2)\n",
    "job_html.status_code"
   ]
  },
  {
   "cell_type": "code",
   "execution_count": 81,
   "metadata": {
    "ExecuteTime": {
     "end_time": "2019-09-15T04:52:40.204417Z",
     "start_time": "2019-09-15T04:52:40.171541Z"
    }
   },
   "outputs": [
    {
     "data": {
      "text/plain": [
       "[]"
      ]
     },
     "execution_count": 81,
     "metadata": {},
     "output_type": "execute_result"
    }
   ],
   "source": [
    "job_soup = BeautifulSoup(job_html.text)\n",
    "job_soup.find_all('div', {'class':\"lmis-cg-salary-bottom\"})"
   ]
  },
  {
   "cell_type": "code",
   "execution_count": 84,
   "metadata": {
    "ExecuteTime": {
     "end_time": "2019-09-15T04:55:32.717311Z",
     "start_time": "2019-09-15T04:55:13.551536Z"
    },
    "scrolled": true
   },
   "outputs": [
    {
     "data": {
      "text/plain": [
       "[<div class=\"lmis-cg-salary-bottom\">\n",
       " <span style=\"width: 54.545%\">\n",
       "             $65K\n",
       "           </span>\n",
       " <span class=\"lmis-cg-salary-mode\">$110K</span>\n",
       " <span>$160K</span>\n",
       " </div>]"
      ]
     },
     "execution_count": 84,
     "metadata": {},
     "output_type": "execute_result"
    }
   ],
   "source": [
    "job_soup_new = BeautifulSoup(get_html_with_script(url2))\n",
    "job_soup_new.find_all('div', {'class':\"lmis-cg-salary-bottom\"})"
   ]
  },
  {
   "cell_type": "markdown",
   "metadata": {},
   "source": [
    "__Recognition__ <br>\n",
    "Thanks to Srikanta Patra for helping me learn web scraping as part of the General Assembly Data Science Immersive. Some of this code is adapted from his lesson, particularly the use of Open Table as a good example for javascript.<br>\n",
    "And thanks to Elke Hansen for pointing out the javascript in Seek ads."
   ]
  },
  {
   "cell_type": "code",
   "execution_count": null,
   "metadata": {},
   "outputs": [],
   "source": []
  }
 ],
 "metadata": {
  "kernelspec": {
   "display_name": "Python 3",
   "language": "python",
   "name": "python3"
  },
  "language_info": {
   "codemirror_mode": {
    "name": "ipython",
    "version": 3
   },
   "file_extension": ".py",
   "mimetype": "text/x-python",
   "name": "python",
   "nbconvert_exporter": "python",
   "pygments_lexer": "ipython3",
   "version": "3.7.3"
  },
  "toc": {
   "base_numbering": 1,
   "nav_menu": {},
   "number_sections": false,
   "sideBar": true,
   "skip_h1_title": false,
   "title_cell": "Table of Contents",
   "title_sidebar": "Contents",
   "toc_cell": false,
   "toc_position": {},
   "toc_section_display": true,
   "toc_window_display": true
  }
 },
 "nbformat": 4,
 "nbformat_minor": 2
}
