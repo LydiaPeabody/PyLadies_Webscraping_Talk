{
 "cells": [
  {
   "cell_type": "markdown",
   "metadata": {
    "ExecuteTime": {
     "end_time": "2019-09-15T05:03:46.697849Z",
     "start_time": "2019-09-15T05:03:46.692832Z"
    }
   },
   "source": [
    "<html>\n",
    "  <head>\n",
    "    <title>Hello PyLadies!</title>\n",
    "  </head>\n",
    "  <body>\n",
    "    <h2 class='opening'>Welcome to my <a href=\"http://melbourne.pyladies.com/\">PyLadies Melbourne</a> talk</h2>\n",
    "      <p>A few comments:</p>\n",
    "      <li id='new'>I'm pretty new to this</li>\n",
    "      <li id='fun'>But it's been fun to learn</li>\n",
    "      <p></p>\n",
    "    <p class = '1'>Hopefully you'll learn something. </p>\n",
    "    <div>There is a lot to learn. Certainly there is much I do not know.\n",
    "        <a href=\"https://www.brainyquote.com/topics/learning-quotes\">But that's okay.\n",
    "        </a>\n",
    "    </div>\n",
    "    <p class = '2'>Hopefully I'll learn something new.</p>\n",
    "    <p class = '3'>And we'll all have some fun. Because learning is often fun!</p>\n",
    "      <div>If you missed, or want to review, the\n",
    "          <a href='https://docs.google.com/presentation/d/1u7HDawQFpMzj-2epPIdKNysLOl_lc0BoNam4dApnMlM/edit?usp=sharing'>intro presentation</a>\n",
    "          you can find it here.\n",
    "      </div>\n",
    "    <p class = 'closing'>Let's get started!<p>\n",
    "  </body>\n",
    "</html>\n"
   ]
  },
  {
   "cell_type": "code",
   "execution_count": 1,
   "metadata": {
    "ExecuteTime": {
     "end_time": "2019-09-16T08:19:24.853670Z",
     "start_time": "2019-09-16T08:19:22.885562Z"
    }
   },
   "outputs": [],
   "source": [
    "#imports\n",
    "from scrapy.selector import Selector\n",
    "\n",
    "import requests\n",
    "from bs4 import BeautifulSoup\n",
    "\n",
    "import pandas as pd\n"
   ]
  },
  {
   "cell_type": "markdown",
   "metadata": {},
   "source": [
    "## A little taste of Scrapy & XPath\n",
    "XPath locates items within html by following the tag structure of the code"
   ]
  },
  {
   "cell_type": "code",
   "execution_count": 2,
   "metadata": {
    "ExecuteTime": {
     "end_time": "2019-09-16T08:48:58.851743Z",
     "start_time": "2019-09-16T08:48:58.847728Z"
    }
   },
   "outputs": [],
   "source": [
    "html_str = '''\n",
    "<html>\n",
    "  <head>\n",
    "    <title>Hello PyLadies!</title>\n",
    "  </head>\n",
    "  <body>\n",
    "    <h2 class='opening'>Welcome to my <a href=\"http://melbourne.pyladies.com/\">PyLadies Melbourne</a> talk</h2>\n",
    "      <p>A few comments:</p>\n",
    "      <li id='new'>I'm pretty new to this</li>\n",
    "      <li id='fun'>But it's been fun to learn</li>\n",
    "      <p></p>\n",
    "    <p class = '1'>Hopefully you'll learn something. </p>\n",
    "    <div>There is a lot to learn. Certainly there is much I do not know.\n",
    "        <a href=\"https://www.brainyquote.com/topics/learning-quotes\">But that's okay.\n",
    "        </a>\n",
    "    </div>\n",
    "    <p class = '2'>Hopefully I'll learn something new.</p>\n",
    "    <p class = '3'>And we'll all have some fun. Because learning is often fun!</p>\n",
    "      <div>If you missed, or want to review, the\n",
    "          <a href='https://docs.google.com/presentation/d/1u7HDawQFpMzj-2epPIdKNysLOl_lc0BoNam4dApnMlM/edit?usp=sharing'>intro presentation</a>\n",
    "          you can find it here.\n",
    "      </div>\n",
    "    <p class = 'closing'>Let's get started!<p>\n",
    "  </body>\n",
    "</html>\n",
    "'''"
   ]
  },
  {
   "cell_type": "code",
   "execution_count": 3,
   "metadata": {
    "ExecuteTime": {
     "end_time": "2019-09-16T08:49:21.083331Z",
     "start_time": "2019-09-16T08:49:21.078314Z"
    }
   },
   "outputs": [],
   "source": [
    "xpath_selector = Selector(text=html_str)"
   ]
  },
  {
   "cell_type": "code",
   "execution_count": 4,
   "metadata": {
    "ExecuteTime": {
     "end_time": "2019-09-16T08:49:52.049529Z",
     "start_time": "2019-09-16T08:49:52.041550Z"
    }
   },
   "outputs": [
    {
     "name": "stdout",
     "output_type": "stream",
     "text": [
      "['Welcome to my ', ' talk']\n"
     ]
    }
   ],
   "source": [
    "print(xpath_selector.xpath('/html/body/h2/text()').extract())"
   ]
  },
  {
   "cell_type": "code",
   "execution_count": 5,
   "metadata": {
    "ExecuteTime": {
     "end_time": "2019-09-16T08:50:33.003079Z",
     "start_time": "2019-09-16T08:50:32.992096Z"
    }
   },
   "outputs": [
    {
     "data": {
      "text/plain": [
       "['Welcome to my ', ' talk']"
      ]
     },
     "execution_count": 5,
     "metadata": {},
     "output_type": "execute_result"
    }
   ],
   "source": [
    "#keep track of your single/double quotes when working with html :)\n",
    "path = '//*[@class = \"opening\"]/text()'\n",
    "xpath_selector.xpath(path).extract()"
   ]
  },
  {
   "cell_type": "code",
   "execution_count": 6,
   "metadata": {
    "ExecuteTime": {
     "end_time": "2019-09-16T08:50:57.637245Z",
     "start_time": "2019-09-16T08:50:57.630242Z"
    }
   },
   "outputs": [
    {
     "name": "stdout",
     "output_type": "stream",
     "text": [
      "[\"I'm pretty new to this\", \"But it's been fun to learn\"]\n",
      "[\"I'm pretty new to this\"]\n"
     ]
    }
   ],
   "source": [
    "path1 = '/html/body/li/text()'\n",
    "path2 = '//*[@id = \"new\"]/text()'\n",
    "print(xpath_selector.xpath(path1).extract())\n",
    "print(xpath_selector.xpath(path2).extract())"
   ]
  },
  {
   "cell_type": "code",
   "execution_count": null,
   "metadata": {
    "ExecuteTime": {
     "end_time": "2019-09-16T03:33:45.423483Z",
     "start_time": "2019-09-16T03:33:45.417499Z"
    }
   },
   "outputs": [],
   "source": [
    "path3 = '/html/body/p[@class = 3]/text()'\n",
    "xpath_selector.xpath(path3).extract()"
   ]
  },
  {
   "cell_type": "code",
   "execution_count": 7,
   "metadata": {
    "ExecuteTime": {
     "end_time": "2019-09-16T08:52:07.576290Z",
     "start_time": "2019-09-16T08:52:07.569307Z"
    }
   },
   "outputs": [
    {
     "name": "stdout",
     "output_type": "stream",
     "text": [
      "[[\"Hopefully you'll learn something. \"], [\"Hopefully I'll learn something new.\"], [\"And we'll all have some fun. Because learning is often fun!\"]]\n"
     ]
    }
   ],
   "source": [
    "paragraphs = [xpath_selector.xpath('/html/body/p[@class = ' + str(i+1) +']/text()').extract()\n",
    "                  for i in range(3)]\n",
    "print(paragraphs)"
   ]
  },
  {
   "cell_type": "markdown",
   "metadata": {},
   "source": [
    "## Requests\n",
    "Let's get some html!"
   ]
  },
  {
   "cell_type": "code",
   "execution_count": 8,
   "metadata": {
    "ExecuteTime": {
     "end_time": "2019-09-16T08:53:09.031057Z",
     "start_time": "2019-09-16T08:53:08.881430Z"
    }
   },
   "outputs": [
    {
     "data": {
      "text/plain": [
       "200"
      ]
     },
     "execution_count": 8,
     "metadata": {},
     "output_type": "execute_result"
    }
   ],
   "source": [
    "#using requests to capture html from a website\n",
    "response = requests.get('https://www.python.org/')\n",
    "response.status_code"
   ]
  },
  {
   "cell_type": "markdown",
   "metadata": {},
   "source": [
    "### HTML status codes\n",
    "These responses tell about whether your request worked, or what might have gone wrong. You've probably seen 404 frequently. You don't usually see 200 because it means things are all good <br>\n",
    "<br>\n",
    "learn more: https://en.wikipedia.org/wiki/List_of_HTTP_status_codes <br>\n",
    "<br>\n"
   ]
  },
  {
   "cell_type": "code",
   "execution_count": 9,
   "metadata": {
    "ExecuteTime": {
     "end_time": "2019-09-16T08:54:37.943410Z",
     "start_time": "2019-09-16T08:54:37.935403Z"
    }
   },
   "outputs": [
    {
     "name": "stdout",
     "output_type": "stream",
     "text": [
      "49055\n"
     ]
    },
    {
     "data": {
      "text/plain": [
       "'<!doctype html>\\n<!--[if lt IE 7]>   <html class=\"no-js ie6 lt-ie7 lt-ie8 lt-ie9\">   <![endif]-->\\n<!--[if IE 7]>      <html class=\"no-js ie7 lt-ie8 lt-ie9\">          <![endif]-->\\n<!--[if IE 8]>      <html class=\"no-js ie8 lt-ie9\">                 <![endif]-->\\n<!--[if gt IE 8]><!--><html class=\"no-js\" lang=\"en\" dir=\"ltr\">  <!--<![endif]-->\\n\\n<head>\\n    <meta charset=\"utf-8\">\\n    <meta http-equiv=\"X-UA-Compatible\" content=\"IE=edge\">\\n\\n    <link rel=\"prefetch\" href=\"//ajax.googleapis.com/ajax/libs/jquery/1.8.2/jquery.min.js\">\\n\\n    <meta name=\"application-name\" content=\"Python.org\">\\n    <meta name=\"msapplication-tooltip\" content=\"The official home of the Python Programming Language\">\\n    <meta name=\"apple-mobile-web-app-title\" content=\"Python.org\">\\n    <meta name=\"apple-mobile-web-app-capable\" content=\"yes\">\\n    <meta name=\"apple-mobile-web-app-status-bar-style\" content=\"black\">\\n\\n    <meta name=\"viewport\" content=\"width=device-width, initial-scale=1.0\">\\n    <meta name=\"HandheldFriendly\" conte'"
      ]
     },
     "execution_count": 9,
     "metadata": {},
     "output_type": "execute_result"
    }
   ],
   "source": [
    "#let's look at what's in the response\n",
    "#how long is it?\n",
    "print(len(response.text))\n",
    "\n",
    "#what does it look like?\n",
    "response.text[0:1000]"
   ]
  },
  {
   "cell_type": "code",
   "execution_count": 10,
   "metadata": {
    "ExecuteTime": {
     "end_time": "2019-09-16T08:55:11.072832Z",
     "start_time": "2019-09-16T08:55:11.066877Z"
    },
    "scrolled": true
   },
   "outputs": [
    {
     "data": {
      "text/plain": [
       "'ascii'"
      ]
     },
     "execution_count": 10,
     "metadata": {},
     "output_type": "execute_result"
    }
   ],
   "source": [
    "response.apparent_encoding"
   ]
  },
  {
   "cell_type": "code",
   "execution_count": 11,
   "metadata": {
    "ExecuteTime": {
     "end_time": "2019-09-16T08:55:37.468317Z",
     "start_time": "2019-09-16T08:55:37.460303Z"
    }
   },
   "outputs": [],
   "source": [
    "xpath_selector2 = Selector(response)"
   ]
  },
  {
   "cell_type": "code",
   "execution_count": 19,
   "metadata": {
    "ExecuteTime": {
     "end_time": "2019-09-16T09:00:40.983160Z",
     "start_time": "2019-09-16T09:00:40.977168Z"
    }
   },
   "outputs": [
    {
     "data": {
      "text/plain": [
       "'PyCon TW 2019'"
      ]
     },
     "execution_count": 19,
     "metadata": {},
     "output_type": "execute_result"
    }
   ],
   "source": [
    "#let's find the events\n",
    "xpath_selector2.xpath('//*[@id=\"content\"]/div/section/div[2]/div[2]/div/ul/li[1]/a/text()').extract()[0]"
   ]
  },
  {
   "cell_type": "markdown",
   "metadata": {},
   "source": [
    "## BeautifulSoup"
   ]
  },
  {
   "cell_type": "code",
   "execution_count": 20,
   "metadata": {
    "ExecuteTime": {
     "end_time": "2019-09-16T09:02:39.265038Z",
     "start_time": "2019-09-16T09:02:39.260045Z"
    }
   },
   "outputs": [],
   "source": [
    "soup = BeautifulSoup(html_str)"
   ]
  },
  {
   "cell_type": "code",
   "execution_count": 25,
   "metadata": {
    "ExecuteTime": {
     "end_time": "2019-09-16T09:04:19.438287Z",
     "start_time": "2019-09-16T09:04:19.409386Z"
    },
    "scrolled": true
   },
   "outputs": [
    {
     "ename": "AttributeError",
     "evalue": "ResultSet object has no attribute 'text'. You're probably treating a list of items like a single item. Did you call find_all() when you meant to call find()?",
     "output_type": "error",
     "traceback": [
      "\u001b[1;31m---------------------------------------------------------------------------\u001b[0m",
      "\u001b[1;31mAttributeError\u001b[0m                            Traceback (most recent call last)",
      "\u001b[1;32m<ipython-input-25-abdc76745a83>\u001b[0m in \u001b[0;36m<module>\u001b[1;34m\u001b[0m\n\u001b[0;32m      3\u001b[0m \u001b[1;33m\u001b[0m\u001b[0m\n\u001b[0;32m      4\u001b[0m \u001b[0msoup\u001b[0m\u001b[1;33m.\u001b[0m\u001b[0mfind_all\u001b[0m\u001b[1;33m(\u001b[0m\u001b[1;34m'div'\u001b[0m\u001b[1;33m)\u001b[0m\u001b[1;33m\u001b[0m\u001b[1;33m\u001b[0m\u001b[0m\n\u001b[1;32m----> 5\u001b[1;33m \u001b[0msoup\u001b[0m\u001b[1;33m.\u001b[0m\u001b[0mfind_all\u001b[0m\u001b[1;33m(\u001b[0m\u001b[1;34m'div'\u001b[0m\u001b[1;33m)\u001b[0m\u001b[1;33m.\u001b[0m\u001b[0mtext\u001b[0m\u001b[1;33m\u001b[0m\u001b[1;33m\u001b[0m\u001b[0m\n\u001b[0m",
      "\u001b[1;32mC:\\ProgramData\\Anaconda3\\lib\\site-packages\\bs4\\element.py\u001b[0m in \u001b[0;36m__getattr__\u001b[1;34m(self, key)\u001b[0m\n\u001b[0;32m   1618\u001b[0m     \u001b[1;32mdef\u001b[0m \u001b[0m__getattr__\u001b[0m\u001b[1;33m(\u001b[0m\u001b[0mself\u001b[0m\u001b[1;33m,\u001b[0m \u001b[0mkey\u001b[0m\u001b[1;33m)\u001b[0m\u001b[1;33m:\u001b[0m\u001b[1;33m\u001b[0m\u001b[1;33m\u001b[0m\u001b[0m\n\u001b[0;32m   1619\u001b[0m         raise AttributeError(\n\u001b[1;32m-> 1620\u001b[1;33m             \u001b[1;34m\"ResultSet object has no attribute '%s'. You're probably treating a list of items like a single item. Did you call find_all() when you meant to call find()?\"\u001b[0m \u001b[1;33m%\u001b[0m \u001b[0mkey\u001b[0m\u001b[1;33m\u001b[0m\u001b[1;33m\u001b[0m\u001b[0m\n\u001b[0m\u001b[0;32m   1621\u001b[0m         )\n",
      "\u001b[1;31mAttributeError\u001b[0m: ResultSet object has no attribute 'text'. You're probably treating a list of items like a single item. Did you call find_all() when you meant to call find()?"
     ]
    }
   ],
   "source": [
    "soup.find('div')\n",
    "soup.find('div').text.strip()\n",
    "\n",
    "soup.find_all('div')\n",
    "soup.find_all('div').text"
   ]
  },
  {
   "cell_type": "code",
   "execution_count": 30,
   "metadata": {
    "ExecuteTime": {
     "end_time": "2019-09-16T09:06:48.255513Z",
     "start_time": "2019-09-16T09:06:48.250527Z"
    }
   },
   "outputs": [
    {
     "name": "stdout",
     "output_type": "stream",
     "text": [
      "['PyLadies Melbourne', \"But that's okay.\\n        \", 'intro presentation']\n",
      "['http://melbourne.pyladies.com/', 'https://www.brainyquote.com/topics/learning-quotes', 'https://docs.google.com/presentation/d/1u7HDawQFpMzj-2epPIdKNysLOl_lc0BoNam4dApnMlM/edit?usp=sharing']\n"
     ]
    }
   ],
   "source": [
    "soup.find_all('a')\n",
    "\n",
    "links = [link.text\n",
    "         for link in soup.find_all('a')\n",
    "         if link.has_attr('href')]        \n",
    "\n",
    "print(links)\n",
    "\n",
    "links = [] \n",
    "for link in soup.find_all('a'):\n",
    "    if link.has_attr('href'):\n",
    "        links.append(link['href'])\n",
    "\n",
    "print(links)"
   ]
  },
  {
   "cell_type": "markdown",
   "metadata": {},
   "source": [
    "### Let's check out a real website"
   ]
  },
  {
   "cell_type": "code",
   "execution_count": 31,
   "metadata": {
    "ExecuteTime": {
     "end_time": "2019-09-16T09:07:03.607504Z",
     "start_time": "2019-09-16T09:07:02.919300Z"
    }
   },
   "outputs": [],
   "source": [
    "quotes_url = requests.get(links[1])\n",
    "soup_quotes = BeautifulSoup(quotes_url.text)"
   ]
  },
  {
   "cell_type": "code",
   "execution_count": 33,
   "metadata": {
    "ExecuteTime": {
     "end_time": "2019-09-16T09:10:41.549266Z",
     "start_time": "2019-09-16T09:10:41.529319Z"
    },
    "scrolled": true
   },
   "outputs": [
    {
     "name": "stdout",
     "output_type": "stream",
     "text": [
      "Earl Nightingale\n",
      "Earl Nightingale\n",
      "Pele\n",
      "Tena Desae\n",
      "Colin Powell\n",
      "Brad Henry\n",
      "Anthony J. D'Angelo\n",
      "Steve Harvey\n",
      "Amisha Patel\n",
      "Billy Graham\n",
      "Jim Rohn\n",
      "Maya Angelou\n",
      "Eliphas Levi\n",
      "Colin Powell\n",
      "Benjamin Franklin\n",
      "Jiddu Krishnamurti\n",
      "Henry Ford\n",
      "Michelle Obama\n",
      "George Foreman\n",
      "Wilma Rudolph\n",
      "Elisabeth Kubler-Ross\n",
      "Asa Hutchinson\n",
      "Mahatma Gandhi\n",
      "Joel Edgerton\n",
      "Gza\n",
      "Bruce Lee\n",
      "Queen Latifah\n"
     ]
    }
   ],
   "source": [
    "#who are the authors?\n",
    "for a in soup_quotes.find_all('a',{'class':\"bq-aut qa_159029 oncl_a\"}):\n",
    "    print(a.text)\n",
    "for a in soup_quotes.find_all('a',{'title':\"view author\"}):\n",
    "    print(a.text)"
   ]
  },
  {
   "cell_type": "code",
   "execution_count": 39,
   "metadata": {
    "ExecuteTime": {
     "end_time": "2019-09-16T09:17:38.089743Z",
     "start_time": "2019-09-16T09:17:38.071778Z"
    }
   },
   "outputs": [
    {
     "data": {
      "text/plain": [
       "[<a class=\"qkw-btn btn btn-xs oncl_list_kc\" data-idx=\"0\" href=\"/topics/life-quotes\">Life</a>,\n",
       " <a class=\"qkw-btn btn btn-xs oncl_list_kc\" data-idx=\"1\" href=\"/topics/work-quotes\">Work</a>,\n",
       " <a class=\"qkw-btn btn btn-xs oncl_list_kc\" data-idx=\"2\" href=\"/topics/family-quotes\">Family</a>,\n",
       " <a class=\"qkw-btn btn btn-xs oncl_list_kc\" data-idx=\"3\" href=\"/topics/future-quotes\">Future</a>,\n",
       " <a class=\"qkw-btn btn btn-xs oncl_list_kc\" data-idx=\"0\" href=\"/topics/hard-work-quotes\">Hard Work</a>,\n",
       " <a class=\"qkw-btn btn btn-xs oncl_list_kc\" data-idx=\"1\" href=\"/topics/work-quotes\">Work</a>,\n",
       " <a class=\"qkw-btn btn btn-xs oncl_list_kc\" data-idx=\"2\" href=\"/topics/love-quotes\">Love</a>,\n",
       " <a class=\"qkw-btn btn btn-xs oncl_list_kc\" data-idx=\"3\" href=\"/topics/success-quotes\">Success</a>,\n",
       " <a class=\"qkw-btn btn btn-xs oncl_list_kc\" data-idx=\"0\" href=\"/topics/positive-quotes\">Positive</a>,\n",
       " <a class=\"qkw-btn btn btn-xs oncl_list_kc\" data-idx=\"1\" href=\"/topics/work-quotes\">Work</a>,\n",
       " <a class=\"qkw-btn btn btn-xs oncl_list_kc\" data-idx=\"2\" href=\"/topics/hope-quotes\">Hope</a>,\n",
       " <a class=\"qkw-btn btn btn-xs oncl_list_kc\" data-idx=\"3\" href=\"/topics/yourself-quotes\">Yourself</a>,\n",
       " <a class=\"qkw-btn btn btn-xs oncl_list_kc\" data-idx=\"0\" href=\"/topics/hard-work-quotes\">Hard Work</a>,\n",
       " <a class=\"qkw-btn btn btn-xs oncl_list_kc\" data-idx=\"1\" href=\"/topics/work-quotes\">Work</a>,\n",
       " <a class=\"qkw-btn btn btn-xs oncl_list_kc\" data-idx=\"2\" href=\"/topics/success-quotes\">Success</a>,\n",
       " <a class=\"qkw-btn btn btn-xs oncl_list_kc\" data-idx=\"3\" href=\"/topics/failure-quotes\">Failure</a>,\n",
       " <a class=\"qkw-btn btn btn-xs oncl_list_kc\" data-idx=\"0\" href=\"/topics/teacher-quotes\">Teacher</a>,\n",
       " <a class=\"qkw-btn btn btn-xs oncl_list_kc\" data-idx=\"1\" href=\"/topics/good-teacher-quotes\">Good Teacher</a>,\n",
       " <a class=\"qkw-btn btn btn-xs oncl_list_kc\" data-idx=\"2\" href=\"/topics/love-quotes\">Love</a>,\n",
       " <a class=\"qkw-btn btn btn-xs oncl_list_kc\" data-idx=\"3\" href=\"/topics/good-quotes\">Good</a>,\n",
       " <a class=\"qkw-btn btn btn-xs oncl_list_kc\" data-idx=\"4\" href=\"/topics/hope-quotes\">Hope</a>,\n",
       " <a class=\"qkw-btn btn btn-xs oncl_list_kc\" data-idx=\"0\" href=\"/topics/education-quotes\">Education</a>,\n",
       " <a class=\"qkw-btn btn btn-xs oncl_list_kc\" data-idx=\"1\" href=\"/topics/passion-quotes\">Passion</a>,\n",
       " <a class=\"qkw-btn btn btn-xs oncl_list_kc\" data-idx=\"2\" href=\"/topics/you-quotes\">You</a>,\n",
       " <a class=\"qkw-btn btn btn-xs oncl_list_kc\" data-idx=\"3\" href=\"/topics/grow-quotes\">Grow</a>,\n",
       " <a class=\"qkw-btn btn btn-xs oncl_list_kc\" data-idx=\"0\" href=\"/topics/teacher-quotes\">Teacher</a>,\n",
       " <a class=\"qkw-btn btn btn-xs oncl_list_kc\" data-idx=\"1\" href=\"/topics/failure-quotes\">Failure</a>,\n",
       " <a class=\"qkw-btn btn btn-xs oncl_list_kc\" data-idx=\"2\" href=\"/topics/you-quotes\">You</a>,\n",
       " <a class=\"qkw-btn btn btn-xs oncl_list_kc\" data-idx=\"3\" href=\"/topics/great-quotes\">Great</a>,\n",
       " <a class=\"qkw-btn btn btn-xs oncl_list_kc\" data-idx=\"0\" href=\"/topics/life-quotes\">Life</a>,\n",
       " <a class=\"qkw-btn btn btn-xs oncl_list_kc\" data-idx=\"1\" href=\"/topics/me-quotes\">Me</a>,\n",
       " <a class=\"qkw-btn btn btn-xs oncl_list_kc\" data-idx=\"2\" href=\"/topics/heart-quotes\">Heart</a>,\n",
       " <a class=\"qkw-btn btn btn-xs oncl_list_kc\" data-idx=\"3\" href=\"/topics/mistake-quotes\">Mistake</a>,\n",
       " <a class=\"qkw-btn btn btn-xs oncl_list_kc\" data-idx=\"0\" href=\"/topics/life-quotes\">Life</a>,\n",
       " <a class=\"qkw-btn btn btn-xs oncl_list_kc\" data-idx=\"1\" href=\"/topics/patience-quotes\">Patience</a>,\n",
       " <a class=\"qkw-btn btn btn-xs oncl_list_kc\" data-idx=\"2\" href=\"/topics/waiting-quotes\">Waiting</a>,\n",
       " <a class=\"qkw-btn btn btn-xs oncl_list_kc\" data-idx=\"3\" href=\"/topics/mistakes-quotes\">Mistakes</a>,\n",
       " <a class=\"qkw-btn btn btn-xs oncl_list_kc\" data-idx=\"0\" href=\"/topics/motivational-quotes\">Motivational</a>,\n",
       " <a class=\"qkw-btn btn btn-xs oncl_list_kc\" data-idx=\"1\" href=\"/topics/health-quotes\">Health</a>,\n",
       " <a class=\"qkw-btn btn btn-xs oncl_list_kc\" data-idx=\"2\" href=\"/topics/beginning-quotes\">Beginning</a>,\n",
       " <a class=\"qkw-btn btn btn-xs oncl_list_kc\" data-idx=\"3\" href=\"/topics/wealth-quotes\">Wealth</a>,\n",
       " <a class=\"qkw-btn btn btn-xs oncl_list_kc\" data-idx=\"0\" href=\"/topics/you-quotes\">You</a>,\n",
       " <a class=\"qkw-btn btn btn-xs oncl_list_kc\" data-idx=\"1\" href=\"/topics/people-quotes\">People</a>,\n",
       " <a class=\"qkw-btn btn btn-xs oncl_list_kc\" data-idx=\"2\" href=\"/topics/feel-quotes\">Feel</a>,\n",
       " <a class=\"qkw-btn btn btn-xs oncl_list_kc\" data-idx=\"3\" href=\"/topics/forget-quotes\">Forget</a>,\n",
       " <a class=\"qkw-btn btn btn-xs oncl_list_kc\" data-idx=\"0\" href=\"/topics/teacher-quotes\">Teacher</a>,\n",
       " <a class=\"qkw-btn btn btn-xs oncl_list_kc\" data-idx=\"1\" href=\"/topics/good-teacher-quotes\">Good Teacher</a>,\n",
       " <a class=\"qkw-btn btn btn-xs oncl_list_kc\" data-idx=\"2\" href=\"/topics/good-quotes\">Good</a>,\n",
       " <a class=\"qkw-btn btn btn-xs oncl_list_kc\" data-idx=\"3\" href=\"/topics/place-quotes\">Place</a>,\n",
       " <a class=\"qkw-btn btn btn-xs oncl_list_kc\" data-idx=\"0\" href=\"/topics/hard-work-quotes\">Hard Work</a>,\n",
       " <a class=\"qkw-btn btn btn-xs oncl_list_kc\" data-idx=\"1\" href=\"/topics/work-quotes\">Work</a>,\n",
       " <a class=\"qkw-btn btn btn-xs oncl_list_kc\" data-idx=\"2\" href=\"/topics/success-quotes\">Success</a>,\n",
       " <a class=\"qkw-btn btn btn-xs oncl_list_kc\" data-idx=\"3\" href=\"/topics/failure-quotes\">Failure</a>,\n",
       " <a class=\"qkw-btn btn btn-xs oncl_list_kc\" data-idx=\"4\" href=\"/topics/hard-quotes\">Hard</a>,\n",
       " <a class=\"qkw-btn btn btn-xs oncl_list_kc\" data-idx=\"0\" href=\"/topics/me-quotes\">Me</a>,\n",
       " <a class=\"qkw-btn btn btn-xs oncl_list_kc\" data-idx=\"1\" href=\"/topics/forget-quotes\">Forget</a>,\n",
       " <a class=\"qkw-btn btn btn-xs oncl_list_kc\" data-idx=\"2\" href=\"/topics/remember-quotes\">Remember</a>,\n",
       " <a class=\"qkw-btn btn btn-xs oncl_list_kc\" data-idx=\"3\" href=\"/topics/teach-quotes\">Teach</a>,\n",
       " <a class=\"qkw-btn btn btn-xs oncl_list_kc\" data-idx=\"0\" href=\"/topics/life-quotes\">Life</a>,\n",
       " <a class=\"qkw-btn btn btn-xs oncl_list_kc\" data-idx=\"1\" href=\"/topics/education-quotes\">Education</a>,\n",
       " <a class=\"qkw-btn btn btn-xs oncl_list_kc\" data-idx=\"2\" href=\"/topics/you-quotes\">You</a>,\n",
       " <a class=\"qkw-btn btn btn-xs oncl_list_kc\" data-idx=\"3\" href=\"/topics/moment-quotes\">Moment</a>,\n",
       " <a class=\"qkw-btn btn btn-xs oncl_list_kc\" data-idx=\"0\" href=\"/topics/life-quotes\">Life</a>,\n",
       " <a class=\"qkw-btn btn btn-xs oncl_list_kc\" data-idx=\"1\" href=\"/topics/age-quotes\">Age</a>,\n",
       " <a class=\"qkw-btn btn btn-xs oncl_list_kc\" data-idx=\"2\" href=\"/topics/mind-quotes\">Mind</a>,\n",
       " <a class=\"qkw-btn btn btn-xs oncl_list_kc\" data-idx=\"3\" href=\"/topics/your-quotes\">Your</a>,\n",
       " <a class=\"qkw-btn btn btn-xs oncl_list_kc\" data-idx=\"0\" href=\"/topics/success-quotes\">Success</a>,\n",
       " <a class=\"qkw-btn btn btn-xs oncl_list_kc\" data-idx=\"1\" href=\"/topics/you-quotes\">You</a>,\n",
       " <a class=\"qkw-btn btn btn-xs oncl_list_kc\" data-idx=\"2\" href=\"/topics/truth-quotes\">Truth</a>,\n",
       " <a class=\"qkw-btn btn btn-xs oncl_list_kc\" data-idx=\"3\" href=\"/topics/integrity-quotes\">Integrity</a>,\n",
       " <a class=\"qkw-btn btn btn-xs oncl_list_kc\" data-idx=\"0\" href=\"/topics/good-quotes\">Good</a>,\n",
       " <a class=\"qkw-btn btn btn-xs oncl_list_kc\" data-idx=\"1\" href=\"/topics/memories-quotes\">Memories</a>,\n",
       " <a class=\"qkw-btn btn btn-xs oncl_list_kc\" data-idx=\"2\" href=\"/topics/happiness-quotes\">Happiness</a>,\n",
       " <a class=\"qkw-btn btn btn-xs oncl_list_kc\" data-idx=\"3\" href=\"/topics/me-quotes\">Me</a>,\n",
       " <a class=\"qkw-btn btn btn-xs oncl_list_kc\" data-idx=\"0\" href=\"/topics/life-quotes\">Life</a>,\n",
       " <a class=\"qkw-btn btn btn-xs oncl_list_kc\" data-idx=\"1\" href=\"/topics/failure-quotes\">Failure</a>,\n",
       " <a class=\"qkw-btn btn btn-xs oncl_list_kc\" data-idx=\"2\" href=\"/topics/time-quotes\">Time</a>,\n",
       " <a class=\"qkw-btn btn btn-xs oncl_list_kc\" data-idx=\"3\" href=\"/topics/you-quotes\">You</a>,\n",
       " <a class=\"qkw-btn btn btn-xs oncl_list_kc\" data-idx=\"0\" href=\"/topics/life-quotes\">Life</a>,\n",
       " <a class=\"qkw-btn btn btn-xs oncl_list_kc\" data-idx=\"1\" href=\"/topics/silence-quotes\">Silence</a>,\n",
       " <a class=\"qkw-btn btn btn-xs oncl_list_kc\" data-idx=\"2\" href=\"/topics/yourself-quotes\">Yourself</a>,\n",
       " <a class=\"qkw-btn btn btn-xs oncl_list_kc\" data-idx=\"3\" href=\"/topics/mistakes-quotes\">Mistakes</a>,\n",
       " <a class=\"qkw-btn btn btn-xs oncl_list_kc\" data-idx=\"0\" href=\"/topics/you-quotes\">You</a>,\n",
       " <a class=\"qkw-btn btn btn-xs oncl_list_kc\" data-idx=\"1\" href=\"/topics/great-quotes\">Great</a>,\n",
       " <a class=\"qkw-btn btn btn-xs oncl_list_kc\" data-idx=\"2\" href=\"/topics/start-quotes\">Start</a>,\n",
       " <a class=\"qkw-btn btn btn-xs oncl_list_kc\" data-idx=\"3\" href=\"/topics/aim-quotes\">Aim</a>,\n",
       " <a class=\"qkw-btn btn btn-xs oncl_list_kc\" data-idx=\"0\" href=\"/topics/you-quotes\">You</a>,\n",
       " <a class=\"qkw-btn btn btn-xs oncl_list_kc\" data-idx=\"1\" href=\"/topics/tomorrow-quotes\">Tomorrow</a>,\n",
       " <a class=\"qkw-btn btn btn-xs oncl_list_kc\" data-idx=\"2\" href=\"/topics/die-quotes\">Die</a>,\n",
       " <a class=\"qkw-btn btn btn-xs oncl_list_kc\" data-idx=\"3\" href=\"/topics/live-quotes\">Live</a>,\n",
       " <a class=\"qkw-btn btn btn-xs oncl_list_kc\" data-idx=\"4\" href=\"/topics/forever-quotes\">Forever</a>,\n",
       " <a class=\"qkw-btn btn btn-xs oncl_list_kc\" data-idx=\"0\" href=\"/topics/time-quotes\">Time</a>,\n",
       " <a class=\"qkw-btn btn btn-xs oncl_list_kc\" data-idx=\"1\" href=\"/topics/you-quotes\">You</a>,\n",
       " <a class=\"qkw-btn btn btn-xs oncl_list_kc\" data-idx=\"2\" href=\"/topics/fall-quotes\">Fall</a>,\n",
       " <a class=\"qkw-btn btn btn-xs oncl_list_kc\" data-idx=\"3\" href=\"/topics/stand-up-quotes\">Stand Up</a>,\n",
       " <a class=\"qkw-btn btn btn-xs oncl_list_kc\" data-idx=\"0\" href=\"/topics/life-quotes\">Life</a>,\n",
       " <a class=\"qkw-btn btn btn-xs oncl_list_kc\" data-idx=\"1\" href=\"/topics/gratitude-quotes\">Gratitude</a>,\n",
       " <a class=\"qkw-btn btn btn-xs oncl_list_kc\" data-idx=\"2\" href=\"/topics/curiosity-quotes\">Curiosity</a>,\n",
       " <a class=\"qkw-btn btn btn-xs oncl_list_kc\" data-idx=\"3\" href=\"/topics/humility-quotes\">Humility</a>,\n",
       " <a class=\"qkw-btn btn btn-xs oncl_list_kc\" data-idx=\"0\" href=\"/topics/wise-quotes\">Wise</a>,\n",
       " <a class=\"qkw-btn btn btn-xs oncl_list_kc\" data-idx=\"1\" href=\"/topics/man-quotes\">Man</a>,\n",
       " <a class=\"qkw-btn btn btn-xs oncl_list_kc\" data-idx=\"2\" href=\"/topics/fool-quotes\">Fool</a>,\n",
       " <a class=\"qkw-btn btn btn-xs oncl_list_kc\" data-idx=\"3\" href=\"/topics/wise-man-quotes\">Wise Man</a>,\n",
       " <a class=\"qkw-btn btn btn-xs oncl_list_kc\" data-idx=\"4\" href=\"/topics/answer-quotes\">Answer</a>,\n",
       " <a class=\"qkw-btn btn btn-xs oncl_list_kc\" data-idx=\"0\" href=\"/topics/experience-quotes\">Experience</a>,\n",
       " <a class=\"qkw-btn btn btn-xs oncl_list_kc\" data-idx=\"1\" href=\"/topics/not-perfect-quotes\">Not Perfect</a>,\n",
       " <a class=\"qkw-btn btn btn-xs oncl_list_kc\" data-idx=\"2\" href=\"/topics/regret-quotes\">Regret</a>,\n",
       " <a class=\"qkw-btn btn btn-xs oncl_list_kc\" data-idx=\"3\" href=\"/topics/perfect-quotes\">Perfect</a>]"
      ]
     },
     "execution_count": 39,
     "metadata": {},
     "output_type": "execute_result"
    }
   ],
   "source": [
    "#let's get the keywords for the quotes\n",
    "soup_quotes.find_all('a', {'class':\"qkw-btn btn btn-xs oncl_list_kc\"})"
   ]
  },
  {
   "cell_type": "markdown",
   "metadata": {},
   "source": [
    "## Working with JavaScript and similar dynamic features\n",
    "The request object only grabs the html - if something is using javascript it won't see it. One way to get around this is to use automated testing software designed to mimic human browsing habits. I'll be using Selenium and chromedriver, which you can learn about here: <br>\n",
    "<br>\n",
    "https://www.seleniumhq.org/ <br>\n",
    "<br>\n",
    "https://sites.google.com/a/chromium.org/chromedriver/home <br>\n",
    "<br>\n",
    "If you decide to use scrapy for your project, here is an option to play with:<br>\n",
    "https://github.com/scrapy-plugins/scrapy-splash<br>\n",
    "<br>"
   ]
  },
  {
   "cell_type": "code",
   "execution_count": 40,
   "metadata": {
    "ExecuteTime": {
     "end_time": "2019-09-16T09:21:45.899808Z",
     "start_time": "2019-09-16T09:21:45.297191Z"
    }
   },
   "outputs": [
    {
     "name": "stdout",
     "output_type": "stream",
     "text": [
      "200\n"
     ]
    }
   ],
   "source": [
    "url = '''https://www.opentable.com/s/?covers=2&dateTime=2019-09-16%2019%3A00&metroId=279\n",
    "        &regionIds=1145&enableSimpleCuisines=true&userlongitude=145.00&userlatitude=-37.83\n",
    "        &includeTicketedAvailability=true&pageType=0'''\n",
    "\n",
    "response2 = requests.get(url)\n",
    "print(response2.status_code)\n",
    "\n",
    "html = response2.text"
   ]
  },
  {
   "cell_type": "code",
   "execution_count": 41,
   "metadata": {
    "ExecuteTime": {
     "end_time": "2019-09-16T09:21:48.640781Z",
     "start_time": "2019-09-16T09:21:48.400799Z"
    }
   },
   "outputs": [
    {
     "data": {
      "text/plain": [
       "'Restaurant Reservation Availability'"
      ]
     },
     "execution_count": 41,
     "metadata": {},
     "output_type": "execute_result"
    }
   ],
   "source": [
    "soup_booking = BeautifulSoup(html,'html.parser')\n",
    "soup_booking.title.text"
   ]
  },
  {
   "cell_type": "code",
   "execution_count": 42,
   "metadata": {
    "ExecuteTime": {
     "end_time": "2019-09-16T09:23:20.785087Z",
     "start_time": "2019-09-16T09:23:20.741182Z"
    }
   },
   "outputs": [
    {
     "data": {
      "text/plain": [
       "[<span class=\"rest-row-name-text\">Mariah Port</span>,\n",
       " <span class=\"rest-row-name-text\">Plaza</span>,\n",
       " <span class=\"rest-row-name-text\">Wolff</span>,\n",
       " <span class=\"rest-row-name-text\">Emerys</span>,\n",
       " <span class=\"rest-row-name-text\">Predovic Hill</span>,\n",
       " <span class=\"rest-row-name-text\">432 Gaylord</span>,\n",
       " <span class=\"rest-row-name-text\">Kareem Schamberger</span>,\n",
       " <span class=\"rest-row-name-text\">Quod Parker</span>,\n",
       " <span class=\"rest-row-name-text\">Kohler</span>,\n",
       " <span class=\"rest-row-name-text\">Raquel Jakubowski</span>,\n",
       " <span class=\"rest-row-name-text\">Voluptatem Garden</span>,\n",
       " <span class=\"rest-row-name-text\">Agloe Bar &amp; Grill</span>,\n",
       " <span class=\"rest-row-name-text\">Excepturi Jakubowski</span>,\n",
       " <span class=\"rest-row-name-text\">469 Block</span>,\n",
       " <span class=\"rest-row-name-text\">Iste Jaskolski</span>,\n",
       " <span class=\"rest-row-name-text\">Voluptatem Purdy</span>,\n",
       " <span class=\"rest-row-name-text\">Hollow</span>,\n",
       " <span class=\"rest-row-name-text\">Sapiente</span>,\n",
       " <span class=\"rest-row-name-text\">Ondricka</span>,\n",
       " <span class=\"rest-row-name-text\">Sequi Gleichner</span>,\n",
       " <span class=\"rest-row-name-text\">1093 Dach</span>,\n",
       " <span class=\"rest-row-name-text\">Quo Run</span>,\n",
       " <span class=\"rest-row-name-text\">Laboriosam</span>,\n",
       " <span class=\"rest-row-name-text\">Marvin</span>,\n",
       " <span class=\"rest-row-name-text\">Chaz Brown</span>,\n",
       " <span class=\"rest-row-name-text\">Doloremque</span>,\n",
       " <span class=\"rest-row-name-text\">Alysas</span>,\n",
       " <span class=\"rest-row-name-text\">Walker Koepp</span>,\n",
       " <span class=\"rest-row-name-text\">Vel Pacocha</span>,\n",
       " <span class=\"rest-row-name-text\">Prince Roob</span>,\n",
       " <span class=\"rest-row-name-text\">Curtis Station</span>,\n",
       " <span class=\"rest-row-name-text\">Aliquid Falls</span>,\n",
       " <span class=\"rest-row-name-text\">Nihil Mills</span>,\n",
       " <span class=\"rest-row-name-text\">Numquam Drives</span>,\n",
       " <span class=\"rest-row-name-text\">Voluptatem Denesik</span>,\n",
       " <span class=\"rest-row-name-text\">690 Herman</span>,\n",
       " <span class=\"rest-row-name-text\">Est Baumbach</span>,\n",
       " <span class=\"rest-row-name-text\">Maryjanes</span>,\n",
       " <span class=\"rest-row-name-text\">Modi</span>,\n",
       " <span class=\"rest-row-name-text\">Leffler</span>,\n",
       " <span class=\"rest-row-name-text\">Cartwright Drive</span>,\n",
       " <span class=\"rest-row-name-text\">1293 Kirlin</span>,\n",
       " <span class=\"rest-row-name-text\">Darions</span>,\n",
       " <span class=\"rest-row-name-text\">Loyce Pagac</span>,\n",
       " <span class=\"rest-row-name-text\">Mews</span>,\n",
       " <span class=\"rest-row-name-text\">Goldner</span>,\n",
       " <span class=\"rest-row-name-text\">Sanford Hessel</span>,\n",
       " <span class=\"rest-row-name-text\">Dolorem Ranch</span>,\n",
       " <span class=\"rest-row-name-text\">Voluptatibus Schimmel</span>,\n",
       " <span class=\"rest-row-name-text\">Hammes Mountain</span>,\n",
       " <span class=\"rest-row-name-text\">Larson Fort</span>,\n",
       " <span class=\"rest-row-name-text\">643 Stiedemann</span>,\n",
       " <span class=\"rest-row-name-text\">In Land</span>,\n",
       " <span class=\"rest-row-name-text\">Lexi Coves</span>,\n",
       " <span class=\"rest-row-name-text\">Irving Cove</span>,\n",
       " <span class=\"rest-row-name-text\">Saepe Corners</span>,\n",
       " <span class=\"rest-row-name-text\">Electa Satterfield</span>,\n",
       " <span class=\"rest-row-name-text\">Ut</span>,\n",
       " <span class=\"rest-row-name-text\">Accusamus Fisher</span>,\n",
       " <span class=\"rest-row-name-text\">Kasey Expressway</span>,\n",
       " <span class=\"rest-row-name-text\">454 Monahan</span>,\n",
       " <span class=\"rest-row-name-text\">Alysa Adams</span>,\n",
       " <span class=\"rest-row-name-text\">Deckow Harbor</span>,\n",
       " <span class=\"rest-row-name-text\">Ernestines</span>,\n",
       " <span class=\"rest-row-name-text\">831 Dach</span>,\n",
       " <span class=\"rest-row-name-text\">Darrells</span>,\n",
       " <span class=\"rest-row-name-text\">Judy Islands</span>,\n",
       " <span class=\"rest-row-name-text\">Jaclyn Howell</span>,\n",
       " <span class=\"rest-row-name-text\">Inventore</span>,\n",
       " <span class=\"rest-row-name-text\">689 Cronin</span>,\n",
       " <span class=\"rest-row-name-text\">Gay Hill</span>,\n",
       " <span class=\"rest-row-name-text\">Aut Pine</span>,\n",
       " <span class=\"rest-row-name-text\">Saepe Turner</span>,\n",
       " <span class=\"rest-row-name-text\">Est</span>,\n",
       " <span class=\"rest-row-name-text\">Schinner</span>,\n",
       " <span class=\"rest-row-name-text\">Ullam</span>,\n",
       " <span class=\"rest-row-name-text\">Kuphal</span>,\n",
       " <span class=\"rest-row-name-text\">Ut</span>,\n",
       " <span class=\"rest-row-name-text\">235 Stiedemann</span>,\n",
       " <span class=\"rest-row-name-text\">Circle</span>,\n",
       " <span class=\"rest-row-name-text\">Leonors</span>,\n",
       " <span class=\"rest-row-name-text\">Adahs</span>,\n",
       " <span class=\"rest-row-name-text\">Autem</span>,\n",
       " <span class=\"rest-row-name-text\">Ex</span>,\n",
       " <span class=\"rest-row-name-text\">Quia Center</span>,\n",
       " <span class=\"rest-row-name-text\">Curve</span>,\n",
       " <span class=\"rest-row-name-text\">Street</span>,\n",
       " <span class=\"rest-row-name-text\">Price Circle</span>,\n",
       " <span class=\"rest-row-name-text\">Lexies</span>,\n",
       " <span class=\"rest-row-name-text\">Chets</span>,\n",
       " <span class=\"rest-row-name-text\">Sed Plains</span>,\n",
       " <span class=\"rest-row-name-text\">Dolor Ullrich</span>,\n",
       " <span class=\"rest-row-name-text\">Illum Walter</span>,\n",
       " <span class=\"rest-row-name-text\">Quod Highway</span>,\n",
       " <span class=\"rest-row-name-text\">952 Feeney</span>,\n",
       " <span class=\"rest-row-name-text\">Crossroad</span>,\n",
       " <span class=\"rest-row-name-text\">Carter</span>,\n",
       " <span class=\"rest-row-name-text\">Labore Tunnel</span>,\n",
       " <span class=\"rest-row-name-text\">Mountain</span>,\n",
       " <span class=\"rest-row-name-text\">782 Schimmel</span>]"
      ]
     },
     "execution_count": 42,
     "metadata": {},
     "output_type": "execute_result"
    }
   ],
   "source": [
    "soup_booking.find_all('span',{'class':\"rest-row-name-text\"}) \n"
   ]
  },
  {
   "cell_type": "code",
   "execution_count": 43,
   "metadata": {
    "ExecuteTime": {
     "end_time": "2019-09-16T09:24:36.388214Z",
     "start_time": "2019-09-16T09:24:36.349307Z"
    }
   },
   "outputs": [
    {
     "data": {
      "text/plain": [
       "[]"
      ]
     },
     "execution_count": 43,
     "metadata": {},
     "output_type": "execute_result"
    }
   ],
   "source": [
    "soup_booking.find_all('div', {'class':\"booking\"})"
   ]
  },
  {
   "cell_type": "code",
   "execution_count": 45,
   "metadata": {
    "ExecuteTime": {
     "end_time": "2019-09-16T09:26:46.893141Z",
     "start_time": "2019-09-16T09:26:46.889148Z"
    }
   },
   "outputs": [],
   "source": [
    "from selenium import webdriver\n",
    "from time import sleep\n"
   ]
  },
  {
   "cell_type": "code",
   "execution_count": 46,
   "metadata": {
    "ExecuteTime": {
     "end_time": "2019-09-16T09:33:08.646565Z",
     "start_time": "2019-09-16T09:33:02.950988Z"
    }
   },
   "outputs": [],
   "source": [
    "driver = webdriver.Chrome(executable_path=\"./chromedriver/chromedriver.exe\") \n",
    "#tell Selenium where to find the driver"
   ]
  },
  {
   "cell_type": "code",
   "execution_count": 47,
   "metadata": {
    "ExecuteTime": {
     "end_time": "2019-09-16T09:33:29.537695Z",
     "start_time": "2019-09-16T09:33:29.485814Z"
    }
   },
   "outputs": [],
   "source": [
    "#when you're done with it\n",
    "driver.close()"
   ]
  },
  {
   "cell_type": "code",
   "execution_count": 48,
   "metadata": {
    "ExecuteTime": {
     "end_time": "2019-09-16T09:34:24.171495Z",
     "start_time": "2019-09-16T09:34:24.166507Z"
    }
   },
   "outputs": [],
   "source": [
    "def get_html_with_script(url):\n",
    "    driver = webdriver.Chrome(executable_path=\"./chromedriver/chromedriver.exe\")\n",
    "    driver.get(url)\n",
    "\n",
    "    #wait one second\n",
    "    sleep(1)\n",
    "\n",
    "    #grab page source - javascript will have been executed\n",
    "    html = driver.page_source\n",
    "    driver.close()\n",
    "    \n",
    "    return html"
   ]
  },
  {
   "cell_type": "code",
   "execution_count": 49,
   "metadata": {
    "ExecuteTime": {
     "end_time": "2019-09-16T09:34:42.044520Z",
     "start_time": "2019-09-16T09:34:29.375217Z"
    },
    "scrolled": false
   },
   "outputs": [
    {
     "data": {
      "text/plain": [
       "[<div class=\"booking\"><span class=\"tadpole\"></span>Booked 32 times today</div>,\n",
       " <div class=\"booking\"><span class=\"tadpole\"></span>Booked 14 times today</div>,\n",
       " <div class=\"booking\"><span class=\"tadpole\"></span>Booked 12 times today</div>,\n",
       " <div class=\"booking\"><span class=\"tadpole\"></span>Booked 13 times today</div>,\n",
       " <div class=\"booking\"><span class=\"tadpole\"></span>Booked 24 times today</div>,\n",
       " <div class=\"booking\"><span class=\"tadpole\"></span>Booked 10 times today</div>,\n",
       " <div class=\"booking\"><span class=\"tadpole\"></span>Booked 4 times today</div>,\n",
       " <div class=\"booking\"><span class=\"tadpole\"></span>Booked 4 times today</div>,\n",
       " <div class=\"booking\"><span class=\"tadpole\"></span>Booked 1 times today</div>,\n",
       " <div class=\"booking\"><span class=\"tadpole\"></span>Booked 1 times today</div>,\n",
       " <div class=\"booking\"><span class=\"tadpole\"></span>Booked 7 times today</div>,\n",
       " <div class=\"booking\"><span class=\"tadpole\"></span>Booked 7 times today</div>,\n",
       " <div class=\"booking\"><span class=\"tadpole\"></span>Booked 2 times today</div>]"
      ]
     },
     "execution_count": 49,
     "metadata": {},
     "output_type": "execute_result"
    }
   ],
   "source": [
    "html_driver = get_html_with_script(url)\n",
    "soup_driver = BeautifulSoup(html_driver)\n",
    "soup_driver.find_all('div', {'class':\"booking\"})"
   ]
  },
  {
   "cell_type": "markdown",
   "metadata": {},
   "source": [
    "### A second example: job boards"
   ]
  },
  {
   "cell_type": "code",
   "execution_count": 50,
   "metadata": {
    "ExecuteTime": {
     "end_time": "2019-09-16T09:37:30.174476Z",
     "start_time": "2019-09-16T09:37:30.169491Z"
    }
   },
   "outputs": [],
   "source": [
    "url2 = 'https://www.seek.com.au/job/39919899'"
   ]
  },
  {
   "cell_type": "code",
   "execution_count": 51,
   "metadata": {
    "ExecuteTime": {
     "end_time": "2019-09-16T09:37:31.696811Z",
     "start_time": "2019-09-16T09:37:31.468561Z"
    }
   },
   "outputs": [
    {
     "data": {
      "text/plain": [
       "200"
      ]
     },
     "execution_count": 51,
     "metadata": {},
     "output_type": "execute_result"
    }
   ],
   "source": [
    "job_html = requests.get(url2)\n",
    "job_html.status_code"
   ]
  },
  {
   "cell_type": "code",
   "execution_count": 52,
   "metadata": {
    "ExecuteTime": {
     "end_time": "2019-09-16T09:37:54.203288Z",
     "start_time": "2019-09-16T09:37:54.173367Z"
    }
   },
   "outputs": [
    {
     "data": {
      "text/plain": [
       "[]"
      ]
     },
     "execution_count": 52,
     "metadata": {},
     "output_type": "execute_result"
    }
   ],
   "source": [
    "job_soup = BeautifulSoup(job_html.text)\n",
    "job_soup.find_all('div', {'class':\"lmis-cg-salary-bottom\"})"
   ]
  },
  {
   "cell_type": "code",
   "execution_count": 53,
   "metadata": {
    "ExecuteTime": {
     "end_time": "2019-09-16T09:38:14.381902Z",
     "start_time": "2019-09-16T09:37:57.416690Z"
    },
    "scrolled": true
   },
   "outputs": [
    {
     "data": {
      "text/plain": [
       "[<div class=\"lmis-cg-salary-bottom\">\n",
       " <span style=\"width: 75.000%\">\n",
       "             $45K\n",
       "           </span>\n",
       " <span class=\"lmis-cg-salary-mode\">$120K</span>\n",
       " <span>$160K</span>\n",
       " </div>]"
      ]
     },
     "execution_count": 53,
     "metadata": {},
     "output_type": "execute_result"
    }
   ],
   "source": [
    "job_soup_new = BeautifulSoup(get_html_with_script(url2))\n",
    "job_soup_new.find_all('div', {'class':\"lmis-cg-salary-bottom\"})"
   ]
  },
  {
   "cell_type": "markdown",
   "metadata": {},
   "source": [
    "## Final Notes\n",
    "Think about ethics and laws when planning your project. This is a developing area, so do your research, particularly if you plan to publish or commercialize your work.\n",
    "\n",
    "### Example of data collection [code](https://github.com/LydiaPeabody/Portfolio/blob/master/Capstone_JD_Gender_Analysis/Indeed_Job_Scraping.ipynb)\n",
    "This was just my approach - probably not the best approach, but gives you some ideas to work from\n",
    "\n",
    "\n",
    "### Recognition\n",
    "Thanks to Srikanta Patra for helping me learn web scraping as part of the General Assembly Data Science Immersive. Some of this code is adapted from his lessons, particularly the use of Open Table as a good example for javascript.<br>\n",
    "And thanks to Elke Hansen for pointing out the javascript in Seek ads."
   ]
  },
  {
   "cell_type": "code",
   "execution_count": null,
   "metadata": {},
   "outputs": [],
   "source": []
  }
 ],
 "metadata": {
  "kernelspec": {
   "display_name": "Python 3",
   "language": "python",
   "name": "python3"
  },
  "language_info": {
   "codemirror_mode": {
    "name": "ipython",
    "version": 3
   },
   "file_extension": ".py",
   "mimetype": "text/x-python",
   "name": "python",
   "nbconvert_exporter": "python",
   "pygments_lexer": "ipython3",
   "version": "3.7.3"
  },
  "toc": {
   "base_numbering": 1,
   "nav_menu": {},
   "number_sections": false,
   "sideBar": true,
   "skip_h1_title": false,
   "title_cell": "Table of Contents",
   "title_sidebar": "Contents",
   "toc_cell": false,
   "toc_position": {
    "height": "calc(100% - 180px)",
    "left": "10px",
    "top": "150px",
    "width": "165px"
   },
   "toc_section_display": true,
   "toc_window_display": false
  }
 },
 "nbformat": 4,
 "nbformat_minor": 2
}
